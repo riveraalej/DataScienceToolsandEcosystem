{
 "cells": [
  {
   "cell_type": "markdown",
   "id": "2df1a5f7-bad2-45bc-8bd9-7326967b7acf",
   "metadata": {
    "tags": []
   },
   "source": [
    "# Data Science Tools and Ecosystem"
   ]
  },
  {
   "cell_type": "markdown",
   "id": "40a89cb2-6aa8-45d2-8515-74c22ef6b0f3",
   "metadata": {},
   "source": [
    "In this notebook, Data Science Tools and Ecosystem are summarized."
   ]
  },
  {
   "cell_type": "markdown",
   "id": "34bacb0d-8e8a-472c-848c-bc8f690d06c0",
   "metadata": {},
   "source": [
    "**Objectives:**\n",
    "- List popular languages in data science\n",
    "- List popular libraries used by data scientist\n",
    "- List some data science environments"
   ]
  },
  {
   "cell_type": "markdown",
   "id": "e0ae3c61-5d3c-4f03-af9a-211b4b10892a",
   "metadata": {},
   "source": [
    "*Some of the popular languages that Data Scientists use are:*\n",
    "1. Python\n",
    "2. R\n",
    "3. SQL\n",
    "4. Scala\n",
    "5. Java"
   ]
  },
  {
   "cell_type": "markdown",
   "id": "8f85e4b9-8098-41c7-ba93-93760480c323",
   "metadata": {},
   "source": [
    "*Some of the commonly used libraries used by Data Scientists include:*\n",
    "1. Scientific\n",
    "2. Visualization\n",
    "3. Machine Learning \n",
    "4. Deep Learning"
   ]
  },
  {
   "cell_type": "markdown",
   "id": "a9ce4e7a-fa9e-4b89-91e4-5b54e76019af",
   "metadata": {},
   "source": [
    "| Data Science Tools |\n",
    "| ------ | \n",
    "| Anaconda |\n",
    "| Visual Studio| \n",
    "| JupyterLab |"
   ]
  },
  {
   "cell_type": "markdown",
   "id": "a3c88546-3912-485a-8d4b-e24c2f4c2819",
   "metadata": {},
   "source": [
    "### Below are a few examples of evaluating arithmetic expressions in Python"
   ]
  },
  {
   "cell_type": "code",
   "execution_count": 1,
   "id": "526e5ff1-1898-4a36-9ca1-5d9d8a01980c",
   "metadata": {
    "tags": []
   },
   "outputs": [
    {
     "data": {
      "text/plain": [
       "17"
      ]
     },
     "execution_count": 1,
     "metadata": {},
     "output_type": "execute_result"
    }
   ],
   "source": [
    "#This a simple arithmetic expression to mutiply then add integers\n",
    "\n",
    "(3*4)+5"
   ]
  },
  {
   "cell_type": "code",
   "execution_count": 2,
   "id": "102a2d32-6a2d-4002-8bb6-bd9a9c3db697",
   "metadata": {
    "tags": []
   },
   "outputs": [
    {
     "data": {
      "text/plain": [
       "3.3333333333333335"
      ]
     },
     "execution_count": 2,
     "metadata": {},
     "output_type": "execute_result"
    }
   ],
   "source": [
    "#This will convert 200 minutes to hours by diving by 60\n",
    "200/60"
   ]
  },
  {
   "cell_type": "markdown",
   "id": "425ea1ab-2f9b-41cf-8d9b-00edfde91f4f",
   "metadata": {},
   "source": [
    "## Author\n",
    "Alejandra Rivera Ortiz"
   ]
  }
 ],
 "metadata": {
  "kernelspec": {
   "display_name": "Python 3 (ipykernel)",
   "language": "python",
   "name": "python3"
  },
  "language_info": {
   "codemirror_mode": {
    "name": "ipython",
    "version": 3
   },
   "file_extension": ".py",
   "mimetype": "text/x-python",
   "name": "python",
   "nbconvert_exporter": "python",
   "pygments_lexer": "ipython3",
   "version": "3.11.3"
  }
 },
 "nbformat": 4,
 "nbformat_minor": 5
}
